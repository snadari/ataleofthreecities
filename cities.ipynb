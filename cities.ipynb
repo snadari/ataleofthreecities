{
 "cells": [
  {
   "cell_type": "code",
   "execution_count": 84,
   "metadata": {},
   "outputs": [],
   "source": [
    "import pandas as pd\n",
    "import numpy as np\n",
    "from tqdm import tqdm\n",
    "\n",
    "# Plotting libraries\n",
    "from plotnine import *\n",
    "import matplotlib.pyplot as plt\n",
    "import seaborn as sns\n",
    "\n",
    "# Import the geopandas and geoplot libraries\n",
    "import geopandas as gpd\n",
    "import folium\n",
    "\n",
    "# Preprocessing\n",
    "from sklearn.preprocessing import RobustScaler\n",
    "\n",
    "# API access\n",
    "import warnings\n",
    "import requests # For downloading the website\n",
    "import json"
   ]
  },
  {
   "cell_type": "markdown",
   "metadata": {},
   "source": [
    "### Gathering the Data"
   ]
  },
  {
   "cell_type": "code",
   "execution_count": 85,
   "metadata": {},
   "outputs": [],
   "source": [
    "# Reviewing the American Community Survey API - data profiles\n",
    "profile = 'https://api.census.gov/data/2019/acs/acs5/profile'"
   ]
  },
  {
   "cell_type": "markdown",
   "metadata": {},
   "source": [
    "#### Census - Baltimore"
   ]
  },
  {
   "cell_type": "code",
   "execution_count": 86,
   "metadata": {},
   "outputs": [],
   "source": [
    "# ACCESS\n",
    "# ============================\n",
    "# Building the api GET request\n",
    "# Including pertinent parameters on a county level basis for the country\n",
    "maryland = \"?get=DP05_0071PE,DP05_0077PE,DP05_0078PE,DP05_0079PE,DP05_0080PE&for=tract:*&in=state:24\"\n",
    "url = profile + maryland"
   ]
  },
  {
   "cell_type": "code",
   "execution_count": 87,
   "metadata": {},
   "outputs": [
    {
     "data": {
      "text/plain": [
       "200"
      ]
     },
     "execution_count": 87,
     "metadata": {},
     "output_type": "execute_result"
    }
   ],
   "source": [
    "# Checking the HTTP response code\n",
    "response = requests.request('GET', url)\n",
    "response.status_code"
   ]
  },
  {
   "cell_type": "code",
   "execution_count": 88,
   "metadata": {},
   "outputs": [],
   "source": [
    "# PARSE\n",
    "# ============================\n",
    "# Parsing the JSON data into a python dictionary\n",
    "maryland = response.json()"
   ]
  },
  {
   "cell_type": "code",
   "execution_count": 89,
   "metadata": {},
   "outputs": [],
   "source": [
    "# STORE\n",
    "# ============================\n",
    "# Storing the data into a dataframe\n",
    "md_acs = pd.DataFrame(maryland)"
   ]
  },
  {
   "cell_type": "markdown",
   "metadata": {},
   "source": [
    "#### Census - Detroit"
   ]
  },
  {
   "cell_type": "code",
   "execution_count": 90,
   "metadata": {},
   "outputs": [],
   "source": [
    "# ACCESS\n",
    "# ============================\n",
    "# Building the api GET request\n",
    "# Including pertinent parameters on a county level basis for the country\n",
    "michigan = \"?get=DP05_0071PE,DP05_0077PE,DP05_0078PE,DP05_0079PE,DP05_0080PE&for=tract:*&in=state:26\"\n",
    "url = profile + michigan"
   ]
  },
  {
   "cell_type": "code",
   "execution_count": 91,
   "metadata": {},
   "outputs": [
    {
     "data": {
      "text/plain": [
       "200"
      ]
     },
     "execution_count": 91,
     "metadata": {},
     "output_type": "execute_result"
    }
   ],
   "source": [
    "# Checking the HTTP response code\n",
    "response = requests.request('GET', url)\n",
    "response.status_code"
   ]
  },
  {
   "cell_type": "code",
   "execution_count": 92,
   "metadata": {},
   "outputs": [],
   "source": [
    "# PARSE\n",
    "# ============================\n",
    "# Parsing the JSON data into a python dictionary\n",
    "michigan = response.json()"
   ]
  },
  {
   "cell_type": "code",
   "execution_count": 93,
   "metadata": {},
   "outputs": [],
   "source": [
    "# STORE\n",
    "# ============================\n",
    "# Storing the data into a dataframe\n",
    "mi_acs = pd.DataFrame(michigan)"
   ]
  },
  {
   "cell_type": "markdown",
   "metadata": {},
   "source": [
    "#### Census - Los Angeles"
   ]
  },
  {
   "cell_type": "code",
   "execution_count": 94,
   "metadata": {},
   "outputs": [],
   "source": [
    "# ACCESS\n",
    "# ============================\n",
    "# Building the api GET request\n",
    "# Including pertinent parameters on a county level basis for the country\n",
    "cali = \"?get=DP05_0071PE,DP05_0077PE,DP05_0078PE,DP05_0079PE,DP05_0080PE&for=tract:*&in=state:06\"\n",
    "url = profile + cali"
   ]
  },
  {
   "cell_type": "code",
   "execution_count": 95,
   "metadata": {},
   "outputs": [
    {
     "data": {
      "text/plain": [
       "200"
      ]
     },
     "execution_count": 95,
     "metadata": {},
     "output_type": "execute_result"
    }
   ],
   "source": [
    "# Checking the HTTP response code\n",
    "response = requests.request('GET', url)\n",
    "response.status_code"
   ]
  },
  {
   "cell_type": "code",
   "execution_count": 96,
   "metadata": {},
   "outputs": [],
   "source": [
    "# PARSE\n",
    "# ============================\n",
    "# Parsing the JSON data into a python dictionary\n",
    "cali = response.json()"
   ]
  },
  {
   "cell_type": "code",
   "execution_count": 97,
   "metadata": {},
   "outputs": [],
   "source": [
    "# STORE\n",
    "# ============================\n",
    "# Storing the data into a dataframe\n",
    "ca_acs = pd.DataFrame(cali)"
   ]
  },
  {
   "cell_type": "code",
   "execution_count": 98,
   "metadata": {},
   "outputs": [],
   "source": [
    "# Concating the cities datasets \n",
    "ACS = pd.concat([md_acs, mi_acs, ca_acs])"
   ]
  },
  {
   "cell_type": "markdown",
   "metadata": {},
   "source": [
    "#### NTIA Indicators of Broadband Need - Census Tract"
   ]
  },
  {
   "cell_type": "markdown",
   "metadata": {},
   "source": [
    "The [Indicators of Broadband Need] (https://broadbandusa.maps.arcgis.com/apps/webappviewer/index.html?id=e2b4907376b548f892672ef6afbc0da5) by the National Telecommunications and Information Administration had a couple of different datasets by area size. I am using their census tract level dataset.\n",
    "\n",
    "Important note: There are high margins of errors at the census tract level!"
   ]
  },
  {
   "cell_type": "code",
   "execution_count": 99,
   "metadata": {},
   "outputs": [],
   "source": [
    "# Reading in the NTIA dataset\n",
    "internet = pd.read_csv('./Data/IBNTracts.csv', usecols =['Geographic Identifier - FIPS Code', \n",
    "                                                         'State', 'County', \n",
    "                                                         'Percent of Households with No Internet Access',\n",
    "                                                         'Percent of Households with No Internet Access - Margin of Error', \n",
    "                                                         'Form 477 All Terrestrial Broadband: Max Advertised Consumer Download Speed (Mbps)', \n",
    "                                                         'Form 477 All Terrestrial Broadband: Max Advertised Consumer Upload Speed (Mbps)', \n",
    "                                                         'Ookla Median Download Speed (Mbps)', \n",
    "                                                         'Ookla Median Upload Speed (Mbps)', \n",
    "                                                         'Population 2019 (FCC Estimate)'])"
   ]
  },
  {
   "cell_type": "code",
   "execution_count": 100,
   "metadata": {},
   "outputs": [],
   "source": [
    "# Renaming the columns\n",
    "internet = internet.rename(columns ={'Geographic Identifier - FIPS Code' : 'FIPS', 'State' : 'state', \n",
    "                                     'County' : 'county', \n",
    "                                     'Percent of Households with No Internet Access' : 'no_internet',\n",
    "                                     'Percent of Households with No Internet Access - Margin of Error' : 'MOE', \n",
    "                                     'Form 477 All Terrestrial Broadband: Max Advertised Consumer Download Speed (Mbps)' : 'max_speed', \n",
    "                                     'Form 477 All Terrestrial Broadband: Max Advertised Consumer Upload Speed (Mbps)' : 'min_speed', \n",
    "                                     'Ookla Median Download Speed (Mbps)' : 'median_download', \n",
    "                                     'Ookla Median Upload Speed (Mbps)' : 'median_upload', \n",
    "                                    'Population 2019 (FCC Estimate)' : 'population'})"
   ]
  },
  {
   "cell_type": "markdown",
   "metadata": {},
   "source": [
    "#### Importing the shapefile"
   ]
  },
  {
   "cell_type": "markdown",
   "metadata": {},
   "source": [
    "There is a fantastic project called [Not Even Past: Social Vulnerability and the Legacy of Redlining] (https://dsl.richmond.edu/socialvulnerability/) where reserachers from the University of Richmond, mapped out the redlining map made by the Home Owners Loan Corporation during the 1930s, onto the present day census tracts. I am using their shapefiles in order to get a redlining map overlay."
   ]
  },
  {
   "cell_type": "code",
   "execution_count": 101,
   "metadata": {},
   "outputs": [],
   "source": [
    "# Redlining map over census tracts\n",
    "# Source: https://github.com/americanpanorama/Census_HOLC_Research\n",
    "tracts = gpd.read_file('./Data/Tracts_2020_HOLC/Tracts_2020_HOLC.shp')"
   ]
  },
  {
   "cell_type": "markdown",
   "metadata": {},
   "source": [
    "## Data Cleanup"
   ]
  },
  {
   "cell_type": "markdown",
   "metadata": {},
   "source": [
    "#### ACS "
   ]
  },
  {
   "cell_type": "code",
   "execution_count": 102,
   "metadata": {},
   "outputs": [],
   "source": [
    "# Setting the first row as the column headers\n",
    "ACS.columns = ACS.iloc[0]\n",
    "\n",
    "# Dropping rows\n",
    "ACS = ACS.drop(index = 0).reset_index(drop = True)"
   ]
  },
  {
   "cell_type": "code",
   "execution_count": 103,
   "metadata": {},
   "outputs": [],
   "source": [
    "# Renaming columns\n",
    "ACS = ACS.rename(columns = {'state' : 'state_id', 'county' : 'county_id'}) "
   ]
  },
  {
   "cell_type": "code",
   "execution_count": 104,
   "metadata": {},
   "outputs": [],
   "source": [
    "# Merging 'state', and 'county' together to get the full county number\n",
    "ACS['FIPS'] = ACS['state_id'] + ACS['county_id'] + ACS['tract']\n",
    "\n",
    "# # Dropping columns \n",
    "# ACS = ACS.drop(columns = ['state', 'county'])"
   ]
  },
  {
   "cell_type": "code",
   "execution_count": 105,
   "metadata": {},
   "outputs": [],
   "source": [
    "# Changing the columns to a numeric value\n",
    "ACS = ACS.apply(pd.to_numeric)"
   ]
  },
  {
   "cell_type": "code",
   "execution_count": 106,
   "metadata": {},
   "outputs": [],
   "source": [
    "# Renaming the race/ethnicity column\n",
    "ACS.rename(columns= {'DP05_0078PE' :'black', \n",
    "                             'DP05_0071PE' : 'hisp', \n",
    "                             'DP05_0080PE' : 'asian', \n",
    "                             'DP05_0079PE' : 'amerindian',\n",
    "                             'DP05_0077PE' : 'white'}, inplace=True)"
   ]
  },
  {
   "cell_type": "code",
   "execution_count": 107,
   "metadata": {},
   "outputs": [],
   "source": [
    "# List of columns that are precentages \n",
    "cols = ['black', 'hisp', 'asian', 'amerindian', 'white']"
   ]
  },
  {
   "cell_type": "code",
   "execution_count": 108,
   "metadata": {},
   "outputs": [],
   "source": [
    "# Changing the percetage from a xx.xx format to .xxxx\n",
    "for col_names in ACS:\n",
    "    if (col_names in cols):\n",
    "        ACS[col_names] = ACS[col_names] * 0.01"
   ]
  },
  {
   "cell_type": "code",
   "execution_count": 109,
   "metadata": {},
   "outputs": [
    {
     "name": "stderr",
     "output_type": "stream",
     "text": [
      "100%|███████████████████████████████████| 12276/12276 [00:03<00:00, 3696.71it/s]\n"
     ]
    }
   ],
   "source": [
    "# Converting any areas with 0 racial and/or ethinic groups to a null value\n",
    "for item in tqdm(range(len(ACS))): \n",
    "    for number in range(5):\n",
    "        if ACS.iloc[item, number] == 0:\n",
    "            ACS.iloc[item, number] = np.nan\n",
    "        else: \n",
    "            continue"
   ]
  },
  {
   "cell_type": "markdown",
   "metadata": {},
   "source": [
    "#### NTIA"
   ]
  },
  {
   "cell_type": "code",
   "execution_count": 110,
   "metadata": {},
   "outputs": [],
   "source": [
    "# Changing the percetage from a xx.xx format to .xxxx\n",
    "internet['no_internet'] *= 0.01\n",
    "\n",
    "# # Getting a population stat for people with no internet\n",
    "# internet['no_internet'] *= internet['population']"
   ]
  },
  {
   "cell_type": "markdown",
   "metadata": {},
   "source": [
    "#### Shapefile"
   ]
  },
  {
   "cell_type": "markdown",
   "metadata": {},
   "source": [
    "So after exploring the shapefile I quickly realized that the researchers used an IPUMS crosswalk to generate the unique id (`GISJOIN`) for each tract. Luckily for me a quick search took me to this page: https://forum.ipums.org/t/gisjoin-field-for-tracts-understanding-extra-0s/3720/2 where I discovered that this `GISJOIN` id is essentially a FIPS code for a census tract with some additionally padded 0s."
   ]
  },
  {
   "cell_type": "code",
   "execution_count": 111,
   "metadata": {},
   "outputs": [],
   "source": [
    "# Creating a list of 'GISJOIN'\n",
    "full_id = list(tracts['GISJOIN'])"
   ]
  },
  {
   "cell_type": "code",
   "execution_count": 112,
   "metadata": {},
   "outputs": [],
   "source": [
    "# Creating an empty lists that will hold the FIPS code for the state, county and tract\n",
    "state = []\n",
    "county = []\n",
    "tract = []\n",
    "\n",
    "# Using a for loop to \n",
    "# a) covert the intergers into a string, \n",
    "# b) split it, \n",
    "# c) assign the first 2 values to the state list, \n",
    "# d) skipping a value and assigning the next two values to the county list and\n",
    "# e) skipping a value and assigning the last 7 values to the tract list\n",
    "# all while appending these values to a list \n",
    "for gisjoin in range(len(full_id)):\n",
    "    state.append(str(full_id[gisjoin])[1:3]) # Leaving the values as strings so that way '00' doesn't become '0'\n",
    "    county.append(str(full_id[gisjoin])[4:7])\n",
    "    tract.append(str(full_id[gisjoin])[8:14])"
   ]
  },
  {
   "cell_type": "code",
   "execution_count": 113,
   "metadata": {},
   "outputs": [],
   "source": [
    "# Creating new columns on the tracts dataframe for the FIPS code\n",
    "tracts['state'] = state\n",
    "tracts['county'] = county\n",
    "tracts['tract'] = tract"
   ]
  },
  {
   "cell_type": "code",
   "execution_count": 114,
   "metadata": {},
   "outputs": [],
   "source": [
    "# Creating a FIPS column \n",
    "tracts['FIPS'] = tracts['state'] + tracts['county'] + tracts['tract']"
   ]
  },
  {
   "cell_type": "code",
   "execution_count": 115,
   "metadata": {},
   "outputs": [],
   "source": [
    "# Converting the 'FIPS' column into a numeric value\n",
    "tracts['FIPS'] = pd.to_numeric(tracts['FIPS'])"
   ]
  },
  {
   "cell_type": "code",
   "execution_count": 116,
   "metadata": {},
   "outputs": [],
   "source": [
    "# Dropping columns \n",
    "tracts = tracts.drop(['state', 'county', 'tract'], axis = 1)"
   ]
  },
  {
   "cell_type": "markdown",
   "metadata": {},
   "source": [
    "## Merging the datasets"
   ]
  },
  {
   "cell_type": "code",
   "execution_count": 117,
   "metadata": {},
   "outputs": [],
   "source": [
    "# Merging ACS with internet\n",
    "cities = ACS.merge(internet, on = 'FIPS', how = 'inner')\n",
    "\n",
    "# Merging the shapefile in\n",
    "base = cities.merge(tracts, on = 'FIPS', how = 'inner')"
   ]
  },
  {
   "cell_type": "markdown",
   "metadata": {},
   "source": [
    "## Exploring the datasets"
   ]
  },
  {
   "cell_type": "code",
   "execution_count": 118,
   "metadata": {},
   "outputs": [
    {
     "name": "stdout",
     "output_type": "stream",
     "text": [
      "hisp                263\n",
      "white                59\n",
      "black               259\n",
      "amerindian         4487\n",
      "asian              1157\n",
      "state_id              0\n",
      "county_id             0\n",
      "tract                 0\n",
      "FIPS                  0\n",
      "state                 0\n",
      "county                0\n",
      "no_internet          57\n",
      "MOE                  57\n",
      "max_speed             0\n",
      "min_speed             0\n",
      "median_download       2\n",
      "median_upload         2\n",
      "population            0\n",
      "GISJOIN               0\n",
      "neighborho            0\n",
      "SUM_Perc              0\n",
      "FIRST_holc            0\n",
      "MAX_state             0\n",
      "MAX_city              0\n",
      "Shape_Leng            0\n",
      "Shape_Area            0\n",
      "geometry              0\n",
      "dtype: int64\n"
     ]
    }
   ],
   "source": [
    "# Determining the number of missing values per attribute\n",
    "print(base.isna().sum())"
   ]
  },
  {
   "cell_type": "code",
   "execution_count": 119,
   "metadata": {},
   "outputs": [],
   "source": [
    "# # Viewing the duplicated FIPS\n",
    "# usa_internet[(usa_internet.isna().any(axis=1))]['id'].drop_duplicates()"
   ]
  },
  {
   "cell_type": "code",
   "execution_count": 120,
   "metadata": {},
   "outputs": [],
   "source": [
    "# Dropping NA values \n",
    "base = base[~base['MOE'].isna()].reset_index(drop = True)"
   ]
  },
  {
   "cell_type": "markdown",
   "metadata": {},
   "source": [
    "## Transforming the Dataset"
   ]
  },
  {
   "cell_type": "markdown",
   "metadata": {},
   "source": [
    "### For the Maps"
   ]
  },
  {
   "cell_type": "code",
   "execution_count": 121,
   "metadata": {},
   "outputs": [],
   "source": [
    "# Creating a new dataframe in order troubleshoot\n",
    "cities_shp = base.copy()"
   ]
  },
  {
   "cell_type": "code",
   "execution_count": 122,
   "metadata": {},
   "outputs": [],
   "source": [
    "# For loop that calculates the % of racial/ethnic residents in a census tract that do have internet access\n",
    "# Also calculates how much of that population falls in the old HOLC boundaries\n",
    "for race in ['black', 'hisp', 'asian', 'amerindian','white']:\n",
    "    cities_shp[race] *= cities_shp['no_internet'] * cities_shp['SUM_Perc']"
   ]
  },
  {
   "cell_type": "code",
   "execution_count": 123,
   "metadata": {},
   "outputs": [],
   "source": [
    "# Dropping columns \n",
    "cities_shp = cities_shp.drop(['SUM_Perc'], axis = 1)"
   ]
  },
  {
   "cell_type": "code",
   "execution_count": 124,
   "metadata": {},
   "outputs": [],
   "source": [
    "# Converting the percentages back to a xx.xx\n",
    "for ethnic in ['black', 'hisp', 'asian', 'amerindian', 'white']:\n",
    "    cities_shp[ethnic] *= 100"
   ]
  },
  {
   "cell_type": "code",
   "execution_count": 125,
   "metadata": {},
   "outputs": [],
   "source": [
    "#Rounding values\n",
    "cities_shp[['population', 'no_internet', 'hisp', 'white', 'MOE',\n",
    "            'black', 'amerindian', 'asian']]= round(cities_shp[['population', 'no_internet', 'hisp', \n",
    "                                                                'white', 'MOE','black', 'amerindian', \n",
    "                                                                'asian']], 5)"
   ]
  },
  {
   "cell_type": "markdown",
   "metadata": {},
   "source": [
    "### For the Static Visualizations"
   ]
  },
  {
   "cell_type": "code",
   "execution_count": 126,
   "metadata": {},
   "outputs": [],
   "source": [
    "# Creating new dataframe for the static visualizations\n",
    "holc = base.copy()"
   ]
  },
  {
   "cell_type": "code",
   "execution_count": 127,
   "metadata": {},
   "outputs": [],
   "source": [
    "# For loop that calculates the # of racial/ethnic residents that live in the old HOLC boundaries\n",
    "for groups in ['black', 'hisp', 'asian', 'amerindian','white']:\n",
    "    holc[groups + '_popn'] = holc['SUM_Perc'] * holc[groups] # Overall population %\n",
    "    holc[groups + '_NI'] = holc['SUM_Perc'] * holc['population'] * holc[groups] * holc['no_internet'] # Population that doesn't have internet"
   ]
  },
  {
   "cell_type": "code",
   "execution_count": 128,
   "metadata": {},
   "outputs": [],
   "source": [
    "# Filtering for only Baltimore, Los Angeles, and Detroit\n",
    "holc = holc[(holc['MAX_city'] == 'Baltimore') | (holc['MAX_city'] == 'Los Angeles') | (holc['MAX_city'] == 'Detroit')]"
   ]
  },
  {
   "cell_type": "code",
   "execution_count": 129,
   "metadata": {},
   "outputs": [],
   "source": [
    "# Splitting the dataset into 3 differnt maps depending on location\n",
    "det_holc = holc[holc['MAX_city'] == 'Detroit'].reset_index(drop = True)\n",
    "la_holc = holc[holc['MAX_city'] == 'Los Angeles'].reset_index(drop = True)\n",
    "bal_holc = holc[holc['MAX_city'] == 'Baltimore'].reset_index(drop = True)"
   ]
  },
  {
   "cell_type": "markdown",
   "metadata": {},
   "source": [
    "## Visualizations"
   ]
  },
  {
   "cell_type": "markdown",
   "metadata": {},
   "source": [
    "### Maps"
   ]
  },
  {
   "cell_type": "code",
   "execution_count": 130,
   "metadata": {},
   "outputs": [],
   "source": [
    "# Splitting the dataset into 3 differnt maps depending on location\n",
    "detroit = cities_shp[cities_shp['MAX_city'] == 'Detroit'].reset_index(drop = True)\n",
    "la = cities_shp[cities_shp['MAX_city'] == 'Los Angeles'].reset_index(drop = True)\n",
    "baltimore = cities_shp[cities_shp['MAX_city'] == 'Baltimore'].reset_index(drop = True)"
   ]
  },
  {
   "cell_type": "code",
   "execution_count": 131,
   "metadata": {},
   "outputs": [],
   "source": [
    "# Resaving the above datasets as a geopandas dataframe\n",
    "detroit = gpd.GeoDataFrame(detroit)\n",
    "la = gpd.GeoDataFrame(la)\n",
    "baltimore = gpd.GeoDataFrame(baltimore)"
   ]
  },
  {
   "cell_type": "markdown",
   "metadata": {},
   "source": [
    "#### Detroit"
   ]
  },
  {
   "cell_type": "code",
   "execution_count": 132,
   "metadata": {
    "tags": []
   },
   "outputs": [],
   "source": [
    "# Creating a Redlining map with digital redlining values included for Detroit\n",
    "d = detroit.explore(column = 'FIRST_holc',\n",
    "                    cmap = 'Paired',\n",
    "                    tiles = 'cartodbdark_matter',\n",
    "                    control = False,\n",
    "                    popup = ('max_speed', 'min_speed', 'median_download', 'median_upload'),\n",
    "                    tooltip = ['FIRST_holc', 'white', 'black', 'hisp', 'amerindian', 'asian',\n",
    "                               'MOE', 'population'])\n",
    "\n",
    "# Adding a different background map and allowing for layers\n",
    "folium.TileLayer('cartodbpositron').add_to(d)\n",
    "folium.LayerControl().add_to(d)\n",
    "\n",
    "# Saving the map\n",
    "d.save(outfile = 'detroit.html')"
   ]
  },
  {
   "cell_type": "markdown",
   "metadata": {},
   "source": [
    "#### Los Angeles"
   ]
  },
  {
   "cell_type": "code",
   "execution_count": 133,
   "metadata": {},
   "outputs": [],
   "source": [
    "# Creating a Redlining map with digital redlining values included for Los Angles\n",
    "l = la.explore(column = 'FIRST_holc',\n",
    "               cmap = 'Paired',\n",
    "               tiles = 'cartodbdark_matter',\n",
    "               control = False,\n",
    "               popup = ('max_speed', 'min_speed', 'median_download', 'median_upload'),\n",
    "               tooltip = ['FIRST_holc', 'white', 'black', 'hisp', 'amerindian', 'asian',\n",
    "                          'MOE', 'population'])\n",
    "\n",
    "# Adding a different background map and allowing for layers\n",
    "folium.TileLayer('cartodbpositron').add_to(l)\n",
    "folium.LayerControl().add_to(l)\n",
    "\n",
    "# Saving the map\n",
    "l.save(outfile = 'la.html')"
   ]
  },
  {
   "cell_type": "markdown",
   "metadata": {},
   "source": [
    "#### Baltimore"
   ]
  },
  {
   "cell_type": "code",
   "execution_count": 134,
   "metadata": {},
   "outputs": [],
   "source": [
    "# Creating a Redlining map with digital redlining values included for Baltimore\n",
    "b = baltimore.explore(column = 'FIRST_holc',\n",
    "                      cmap = 'Paired',\n",
    "                      tiles = 'cartodbdark_matter',\n",
    "                      control = False,\n",
    "                      popup = ('max_speed', 'min_speed', 'median_download', 'median_upload'),\n",
    "                      tooltip = ['FIRST_holc', 'white', 'black', 'hisp', 'amerindian', 'asian',\n",
    "                                 'MOE', 'population'])\n",
    "\n",
    "# Adding a different background map and allowing for layers\n",
    "folium.TileLayer('cartodbpositron').add_to(b)\n",
    "folium.LayerControl().add_to(b)\n",
    "\n",
    "# Saving the map\n",
    "b.save(outfile = 'baltimore.html')"
   ]
  },
  {
   "cell_type": "markdown",
   "metadata": {},
   "source": [
    "### Static Visualizations"
   ]
  },
  {
   "cell_type": "markdown",
   "metadata": {},
   "source": [
    "#### Population"
   ]
  },
  {
   "cell_type": "code",
   "execution_count": 135,
   "metadata": {},
   "outputs": [],
   "source": [
    "# # Creating a dictionary where the keys are each individual city as indicated by a number and the values are their melted dataframes\n",
    "# popn_dict = {}\n",
    "# df_list = [det_holc, la_holc, bal_holc]\n",
    "\n",
    "# for popn in range(3):\n",
    "#     gp = df_list[popn].groupby(['FIRST_holc'])[['hisp_popn', 'white_popn', \n",
    "#                                                 'black_popn', 'amerindian_popn', 'asian_popn']].sum().reset_index()\n",
    "#     gp = gp.rename({'hisp_popn' : 'hisp', 'white_popn' : 'white', 'black_popn' : 'black', \n",
    "#                     'amerindian_popn' : 'amerindian', 'asian_popn' : 'asian'}, axis = 1)\n",
    "# # Melting the dataframe to understand how many people in each racial/ethnic group still live in HOLC neighborhoods\n",
    "#     popn_dict[str(popn) + '_melt'] = pd.melt(gp, id_vars = ['FIRST_holc'],  value_vars = ['white', 'black', 'hisp', \n",
    "#                                                                                           'amerindian', 'asian'])"
   ]
  },
  {
   "cell_type": "code",
   "execution_count": 136,
   "metadata": {},
   "outputs": [],
   "source": [
    "# # Creating subplots where the scale is the same across the different cities \n",
    "# f, axes = plt.subplots(1, 3, figsize=(20, 5), sharey = 'row')\n",
    "\n",
    "# for i, (key, item) in enumerate(popn_dict.items()):\n",
    "#     disp = sns.barplot(ax = axes[i], data = item, x = 'variable', y = 'value', hue = 'FIRST_holc')\n",
    "\n",
    "# axes[0].set_title('Detroit')\n",
    "# axes[1].set_title('Los Angeles')\n",
    "# axes[2].set_title('Baltimore')\n",
    "\n",
    "# plt.show()"
   ]
  },
  {
   "cell_type": "code",
   "execution_count": 137,
   "metadata": {},
   "outputs": [],
   "source": [
    "# # Creating subplots where the scale is NOT the same across the different cities \n",
    "# f, axes = plt.subplots(1, 3, figsize=(20, 5))\n",
    "\n",
    "# for i, (key, item) in enumerate(popn_dict.items()):\n",
    "#     disp = sns.barplot(ax = axes[i], data = item, x = 'variable', y = 'value', hue = 'FIRST_holc')\n",
    "\n",
    "# axes[0].set_title('Detroit')\n",
    "# axes[1].set_title('Los Angeles')\n",
    "# axes[2].set_title('Baltimore')\n",
    "\n",
    "# plt.show()"
   ]
  },
  {
   "cell_type": "markdown",
   "metadata": {},
   "source": [
    "#### No Internet - Population Distribution"
   ]
  },
  {
   "cell_type": "code",
   "execution_count": 138,
   "metadata": {},
   "outputs": [],
   "source": [
    "# Creating a dictionary where the keys are each individual city as indicated by a number and the values are their melted dataframes\n",
    "NI_dict = {}\n",
    "df_list = [det_holc, la_holc, bal_holc]\n",
    "\n",
    "for access in range(3):\n",
    "    gp = df_list[access].groupby(['FIRST_holc'])[['hisp_NI', 'white_NI', 'black_NI', 'amerindian_NI', 'asian_NI']].sum().reset_index()\n",
    "    gp = gp.rename({'hisp_NI' : 'hisp', 'white_NI' : 'white', 'black_NI' : 'black', \n",
    "                    'amerindian_NI' : 'amerindian', 'asian_NI' : 'asian'}, axis = 1)\n",
    "# Melting the dataframe to understand how many people in each racial/ethnic group who don't have internet still live in HOLC neighborhoods\n",
    "    NI_dict[str(access) + '_melt'] = pd.melt(gp, id_vars = ['FIRST_holc'],  value_vars = ['white', 'black', 'hisp', \n",
    "                                                                                          'amerindian', 'asian'])"
   ]
  },
  {
   "cell_type": "code",
   "execution_count": 139,
   "metadata": {},
   "outputs": [
    {
     "data": {
      "image/png": "[encoded data removed]",
      "text/plain": [
       "<Figure size 1440x360 with 3 Axes>"
      ]
     },
     "metadata": {},
     "output_type": "display_data"
    }
   ],
   "source": [
    "# Setting the theme\n",
    "sns.set_theme()\n",
    "\n",
    "# Creating subplots where the scale is the same across the different cities \n",
    "f, axes = plt.subplots(1, 3, figsize=(20, 5), sharey = 'row')\n",
    "\n",
    "for i, (key, item) in enumerate(NI_dict.items()):\n",
    "    disp = sns.barplot(ax = axes[i], data = item, x = 'variable', y = 'value', hue = 'FIRST_holc', \n",
    "                       palette = ['#e66101','#fdb863','#b2abd2','#5e3c99'])\n",
    "    axes[i].set_xlabel('') # Removing \"Variable\" for each plot\n",
    "    axes[i].set_ylabel('Population')\n",
    "    axes[i].get_legend().remove()\n",
    "    if i!=0: # Removing \"value\" for each plot except for the very first plot\n",
    "        axes[i].set_ylabel('')\n",
    "\n",
    "# Setting the title of the subplot    \n",
    "axes[0].set_title('Detroit')\n",
    "axes[1].set_title('Los Angeles')\n",
    "axes[2].set_title('Baltimore')\n",
    "\n",
    "# Renaming the x-axis\n",
    "f.text(0.5, -0, '# of Racial and/or Ethnic Groups per City', ha='center')\n",
    "\n",
    "# Setting the title of the figure\n",
    "f.suptitle('Populations That Do Not Have Internet Access (Same Scale)', ha = 'center', size = 15)\n",
    "\n",
    "# Moving the legend to outside the graphs\n",
    "handles, labels = axes[0].get_legend_handles_labels()\n",
    "f.legend(handles, labels, bbox_to_anchor=(.92, 0.88), loc=2, borderaxespad=0., title = 'HOLC Score')\n",
    "\n",
    "# Saving the graph\n",
    "plt.savefig(\"cities_samescale.png\", bbox_inches=\"tight\")"
   ]
  },
  {
   "cell_type": "code",
   "execution_count": 140,
   "metadata": {},
   "outputs": [
    {
     "data": {
      "image/png": "[encoded data removed]",
      "text/plain": [
       "<Figure size 1440x360 with 3 Axes>"
      ]
     },
     "metadata": {},
     "output_type": "display_data"
    }
   ],
   "source": [
    "# Creating subplots where the scale is NOT the same across the different cities \n",
    "f, axes = plt.subplots(1, 3, figsize=(20, 5))\n",
    "\n",
    "for i, (key, item) in enumerate(NI_dict.items()):\n",
    "    disp = sns.barplot(ax = axes[i], data = item, x = 'variable', y = 'value', hue = 'FIRST_holc', \n",
    "                       palette = ['#e66101','#fdb863','#b2abd2','#5e3c99'])\n",
    "    axes[i].get_legend().remove()\n",
    "    axes[i].set_xlabel('') # Removing \"variable\" for each plot\n",
    "    axes[i].set_ylabel('Population')\n",
    "    if i!=0: # Removing \"value\" for each plot except for the very first plot\n",
    "        axes[i].set_ylabel('')\n",
    "\n",
    "# Setting the title of subplot    \n",
    "axes[0].set_title('Detroit')\n",
    "axes[1].set_title('Los Angeles')\n",
    "axes[2].set_title('Baltimore')\n",
    "\n",
    "# Setting the title of the figure\n",
    "f.suptitle('Populations That Do Not Have Internet Access (Different Scale)', ha = 'center', size = 15)\n",
    "\n",
    "# Renaming the x-axis\n",
    "f.text(0.5, -0, '# of Racial and/or Ethnic Groups per City', ha='center')\n",
    "\n",
    "# Moving the legend to outside the graphs\n",
    "handles, labels = axes[0].get_legend_handles_labels()\n",
    "f.legend(handles, labels, bbox_to_anchor=(.92, 0.88), loc=2, borderaxespad=0., title = 'HOLC Score')\n",
    "\n",
    "# Saving the graph\n",
    "plt.savefig(\"cities_diffscale.png\", bbox_inches=\"tight\")"
   ]
  },
  {
   "cell_type": "markdown",
   "metadata": {},
   "source": [
    "#### Median Download by City & HOLC"
   ]
  },
  {
   "cell_type": "code",
   "execution_count": 142,
   "metadata": {},
   "outputs": [
    {
     "data": {
      "image/png": "[encoded data removed]",
      "text/plain": [
       "<Figure size 720x432 with 1 Axes>"
      ]
     },
     "metadata": {},
     "output_type": "display_data"
    }
   ],
   "source": [
    "# Creating subplots where the scale is NOT the same across the different cities \n",
    "f = plt.figure(figsize=(10, 6))\n",
    "\n",
    "# Creating a boxplot comparing the median download speed by city and HOLC\n",
    "sns.boxplot(data = holc, x = 'MAX_city', y = 'median_download', hue = 'FIRST_holc', \n",
    "            hue_order = ['A', 'B', 'C', 'D'], palette = 'Set2')\n",
    "\n",
    "# Renaming the x-axis\n",
    "plt.xlabel('Cities')\n",
    "\n",
    "# Renmaing the y-axis\n",
    "plt.ylabel('Median Download Speed')\n",
    "\n",
    "# Setting the title of the figure\n",
    "f.suptitle('Median Download Speed by City and HOLC Score', ha = 'center', size = 15)\n",
    "\n",
    "# Putting the legend out of the figure\n",
    "plt.legend(bbox_to_anchor=(1.05, 1), loc=2, borderaxespad=0., title = 'HOLC Score')\n",
    "\n",
    "# Saving the graph\n",
    "plt.savefig(\"median_download.png\", bbox_inches=\"tight\")"
   ]
  },
  {
   "cell_type": "code",
   "execution_count": 143,
   "metadata": {},
   "outputs": [],
   "source": [
    "# # # Creating subplots where the scale is NOT the same across the different cities \n",
    "# # f, axes = plt.subplots(5, 4, figsize=(20, 5))\n",
    "\n",
    "# sns.lmplot(data = holc, x = 'white', y = 'median_download', col = 'FIRST_holc', \n",
    "#            col_order = ['A', 'B', 'C', 'D'], hue = 'FIRST_holc' , row ='MAX_city')"
   ]
  },
  {
   "cell_type": "code",
   "execution_count": 144,
   "metadata": {},
   "outputs": [],
   "source": [
    "# sns.lmplot(data = holc, x = 'black', y = 'median_download', col = 'FIRST_holc', \n",
    "#            col_order = ['A', 'B', 'C', 'D'], hue = 'FIRST_holc' , row ='MAX_city')"
   ]
  },
  {
   "cell_type": "code",
   "execution_count": 145,
   "metadata": {},
   "outputs": [],
   "source": [
    "# sns.lmplot(data = holc, x = 'hisp', y = 'median_download', col = 'FIRST_holc', \n",
    "#            col_order = ['A', 'B', 'C', 'D'], hue = 'FIRST_holc' , row ='MAX_city')"
   ]
  },
  {
   "cell_type": "code",
   "execution_count": 146,
   "metadata": {},
   "outputs": [],
   "source": [
    "# sns.lmplot(data = holc, x = 'amerindian', y = 'median_download', col = 'FIRST_holc', \n",
    "#            col_order = ['A', 'B', 'C', 'D'], hue = 'FIRST_holc' , row ='MAX_city')"
   ]
  },
  {
   "cell_type": "code",
   "execution_count": 147,
   "metadata": {},
   "outputs": [],
   "source": [
    "# sns.lmplot(data = holc, x = 'asian', y = 'median_download', col = 'FIRST_holc', \n",
    "#            col_order = ['A', 'B', 'C', 'D'], hue = 'FIRST_holc' , row ='MAX_city')"
   ]
  },
  {
   "cell_type": "code",
   "execution_count": 906,
   "metadata": {},
   "outputs": [],
   "source": [
    "# # Map with the racial groups as a layer\n",
    "\n",
    "# m = detroit.explore(\n",
    "# #                     legend_name = 'HOLC Grade',\n",
    "#                     cmap = 'Accent',\n",
    "# #                     style_kwds=dict(color=\"black\"),\n",
    "#                     tiles = 'cartodbdark_matter', \n",
    "#                     control = True,\n",
    "#                     popup = ('max_speed', 'min_speed', 'median_download', 'median_upload'),\n",
    "#                     tooltip = ['FIRST_holc', 'white', 'black', 'hisp', 'amerindian', 'asian', \n",
    "#                                'MOE', 'population'])\n",
    "\n",
    "# detroit_D.explore(column = ('FIRST_holc'), m = m, name ='D', legend = False, color = 'Red',           \n",
    "#                 popup = ('max_speed', 'min_speed', 'median_download', 'median_upload'),\n",
    "#                 tooltip = ['FIRST_holc', 'white', 'black', 'hisp', 'amerindian', 'asian', \n",
    "#                            'MOE', 'population'], show = False)\n",
    "\n",
    "# detroit.explore(column = 'black', m = m, name ='Black', legend = False, cmap = 'binary',                  \n",
    "#                 popup = ('max_speed', 'min_speed', 'median_download', 'median_upload'),\n",
    "#                 tooltip = ['FIRST_holc', 'white', 'black', 'hisp', 'amerindian', 'asian', \n",
    "#                            'MOE', 'population'], show = False)\n",
    "\n",
    "# detroit.explore(column = 'hisp', m = m, name = 'Hispanic/Latinx', legend = False, cmap = 'binary',                \n",
    "#                 popup = ('max_speed', 'min_speed', 'median_download', 'median_upload'),\n",
    "#                 tooltip = ['FIRST_holc', 'white', 'black', 'hisp', 'amerindian', 'asian', \n",
    "#                            'MOE', 'population'], show = False)\n",
    "\n",
    "# detroit.explore(column = 'asian', m = m, name = 'Asian', legend = False, cmap = 'binary',                  \n",
    "#                 popup = ('max_speed', 'min_speed', 'median_download', 'median_upload'),\n",
    "#                 tooltip = ['FIRST_holc', 'white', 'black', 'hisp', 'amerindian', 'asian', \n",
    "#                            'MOE', 'population'], show = False)\n",
    "\n",
    "# detroit.explore(column = 'amerindian', m = m, name = 'American-Indian', legend = False, \n",
    "#                 cmap = 'binary',  \n",
    "#                 popup = ('max_speed', 'min_speed', 'median_download', 'median_upload'),\n",
    "#                 tooltip = ['FIRST_holc', 'white', 'black', 'hisp', 'amerindian', 'asian', \n",
    "#                            'MOE', 'population'], show = False)\n",
    "\n",
    "# detroit.explore(column = 'white', m = m, name ='white', legend = False, cmap = 'binary',           \n",
    "#                 popup = ('max_speed', 'min_speed', 'median_download', 'median_upload'),\n",
    "#                 tooltip = ['FIRST_holc', 'white', 'black', 'hisp', 'amerindian', 'asian', \n",
    "#                            'MOE', 'population'], show = False)\n",
    "\t\n",
    "# folium.TileLayer('cartodbpositron').add_to(m)\n",
    "# folium.LayerControl().add_to(m)\n",
    "\n",
    "# m"
   ]
  },
  {
   "cell_type": "code",
   "execution_count": 907,
   "metadata": {},
   "outputs": [],
   "source": [
    "## An alternative code\n",
    "\n",
    "# # m = detroit.explore(column = 'white_max', tiles = \"CartoDB positron\")\n",
    "# # We create another map called sample_map2.\n",
    "# sample_map2 = folium.Map(location=[42.331429, -83.045753], zoom_start=10, tiles = \"CartoDB positron\")\n",
    "\n",
    "# detroit.explore(column = 'FIRST_holc',\n",
    "# #                 m = m,\n",
    "#                 color = ['#ffffb2','#fecc5c','#fd8d3c','#e31a1c'], \n",
    "#                 popup = ('max_speed', 'min_speed', 'median_download', 'median_upload'),\n",
    "#                 tooltip = 'max_nointernet', \n",
    "#                 style_kwds=dict(color=\"black\"), \n",
    "#                 tiles=\"CartoDB positron\")\n",
    "\n",
    "\n",
    "# # Add hover functionality.\n",
    "# style_function = lambda x: {'fillColor': '#ffffff', \n",
    "#                             'color':'#000000', \n",
    "#                             'fillOpacity': 0.1, \n",
    "#                             'weight': 0.1}\n",
    "# highlight_function = lambda x: {'fillColor': '#000000', \n",
    "#                                 'color':'#000000', \n",
    "#                                 'fillOpacity': 0.50, \n",
    "#                                 'weight': 0.1}\n",
    "\n",
    "# NIL = folium.features.GeoJson(\n",
    "#     data = detroit,\n",
    "#     style_function=style_function, \n",
    "#     control=False,\n",
    "#     highlight_function=highlight_function, \n",
    "#     tooltip=folium.features.GeoJsonTooltip(\n",
    "#         fields=['hisp_max','asian_max', 'black_max', 'amerindian_max'],\n",
    "#         aliases=['hispanic','asian', 'black', 'american-indian'],\n",
    "#         style=(\"background-color: white; color: #333333; font-family: arial; font-size: 12px; padding: 10px;\") \n",
    "#     )\n",
    "# )\n",
    "\n",
    "# sample_map2.add_child(NIL)\n",
    "# sample_map2.keep_in_front(NIL)\n",
    "\n",
    "# # folium.LayerControl().add_to(m)\n",
    "# # folium.TileLayer('Stamen Toner', control=True).add_to(m)\n",
    "# # folium.TileLayer('Stamen Toner').add_to(m)\n",
    "# # folium.TileLayer('Stamen Water Color').add_to(m)\n",
    "# # folium.TileLayer('cartodbpositron').add_to(m)\n",
    "# # folium.TileLayer('cartodbdark_matter').add_to(m)\n",
    "# folium.LayerControl().add_to(sample_map2)\n",
    "\n",
    "# sample_map2"
   ]
  }
 ],
 "metadata": {
  "kernelspec": {
   "display_name": "Python 3 (ipykernel)",
   "language": "python",
   "name": "python3"
  },
  "language_info": {
   "codemirror_mode": {
    "name": "ipython",
    "version": 3
   },
   "file_extension": ".py",
   "mimetype": "text/x-python",
   "name": "python",
   "nbconvert_exporter": "python",
   "pygments_lexer": "ipython3",
   "version": "3.8.9"
  },
  "toc-autonumbering": false,
  "toc-showcode": false,
  "toc-showmarkdowntxt": false
 },
 "nbformat": 4,
 "nbformat_minor": 4
}
